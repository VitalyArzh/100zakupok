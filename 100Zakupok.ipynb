{
 "cells": [
  {
   "cell_type": "code",
   "execution_count": 1,
   "metadata": {},
   "outputs": [],
   "source": [
    "import pandas as pd\n",
    "import numpy as np\n",
    "import datetime as dt"
   ]
  },
  {
   "cell_type": "code",
   "execution_count": 207,
   "metadata": {},
   "outputs": [],
   "source": [
    "zakupki = pd.read_csv('100Zakupok.csv', header=1,dtype={'телефон':'object'})\n",
    "zakupki['телефон'].fillna(0, inplace=True)\n",
    "zakupki['телефон'] = pd.to_numeric(zakupki['телефон'])\n",
    "zakupki.rename(columns={'телефон':'phone'}, inplace=True)\n",
    "zakupki.drop(zakupki[(zakupki['Закупка']=='Пристрой')|(zakupki['Закупка']=='Переплата')].index, inplace=True)"
   ]
  },
  {
   "cell_type": "code",
   "execution_count": 208,
   "metadata": {},
   "outputs": [],
   "source": [
    "zakupki_bot = pd.read_excel('100 закупок (боты).xlsx', sheet_name='tg')"
   ]
  },
  {
   "cell_type": "code",
   "execution_count": 209,
   "metadata": {},
   "outputs": [],
   "source": [
    "df_zakup = pd.merge(zakupki[['Дата заказа','phone']],zakupki_bot[['phone','regdate','name']],on='phone')"
   ]
  },
  {
   "cell_type": "code",
   "execution_count": 210,
   "metadata": {},
   "outputs": [],
   "source": [
    "df_zakup['Дата заказа'] = pd.to_datetime(df_zakup['Дата заказа'])\n",
    "df_zakup['regdate'] = pd.to_datetime(df_zakup['regdate']).dt.normalize()"
   ]
  },
  {
   "cell_type": "code",
   "execution_count": 211,
   "metadata": {},
   "outputs": [],
   "source": [
    "df_zakup = df_zakup.groupby(['phone','regdate']).agg({'Дата заказа':'min'}).reset_index()"
   ]
  },
  {
   "cell_type": "code",
   "execution_count": 212,
   "metadata": {},
   "outputs": [],
   "source": [
    "df_zakup['days_to_first'] = (df_zakup['Дата заказа'] - df_zakup['regdate'])\n",
    "df_zakup['days_to_first'] = (df_zakup['days_to_first']/np.timedelta64(1, 'D')).astype(int)\n",
    "df_zakup = df_zakup.sort_values('days_to_first', ascending=False)\n",
    "#df_zakup.to_excel('Результат.xlsx',sheet_name='количествод дней')"
   ]
  },
  {
   "cell_type": "code",
   "execution_count": 213,
   "metadata": {},
   "outputs": [
    {
     "data": {
      "text/plain": [
       "days_to_first\n",
       "True     176\n",
       "False    103\n",
       "dtype: int64"
      ]
     },
     "execution_count": 213,
     "metadata": {},
     "output_type": "execute_result"
    }
   ],
   "source": [
    "from_viber = df_zakup.value_counts(df_zakup['days_to_first']<0)\n",
    "from_viber"
   ]
  },
  {
   "cell_type": "code",
   "execution_count": 237,
   "metadata": {},
   "outputs": [],
   "source": [
    "df_zakup_1 = df_zakup[(df_zakup['days_to_first']>=0)]"
   ]
  },
  {
   "cell_type": "code",
   "execution_count": 218,
   "metadata": {},
   "outputs": [],
   "source": [
    "df_referal = pd.merge(zakupki_bot[['phone','regdate','referal']],df_zakup_1['phone'], on='phone')\n",
    "df_referal.fillna('Нет реферала', inplace=True)\n",
    "df_referal_count = df_referal.groupby('referal')['phone'].count()\n",
    "#df_referal_count.to_excel('Результат.xlsx',sheet_name='реферал')"
   ]
  },
  {
   "cell_type": "code",
   "execution_count": 235,
   "metadata": {},
   "outputs": [],
   "source": [
    "df_second = pd.merge(zakupki[['Закупка','Дата заказа','phone']],df_zakup_1['phone'], on='phone')\n",
    "df_second['Дата заказа'] = pd.to_datetime(df_second['Дата заказа'])\n",
    "df_second_1 = df_second.groupby(['phone','Закупка']).agg({'Дата заказа':'min'}).reset_index()\n",
    "df_second = df_second_1.groupby('phone')['Закупка'].count().sort_values(ascending=False)"
   ]
  },
  {
   "cell_type": "code",
   "execution_count": 236,
   "metadata": {},
   "outputs": [],
   "source": [
    "writer = pd.ExcelWriter('Результат.xlsx', engine='xlsxwriter')\n",
    "\n",
    "#store your dataframes in a  dict, where the key is the sheet name you want\n",
    "frames = {'количествод дней': df_zakup, 'реферал': df_referal_count, 'количество закупок':df_second,\n",
    "          'закупки по датам':df_second_1}\n",
    "\n",
    "#now loop thru and put each on a specific sheet\n",
    "for sheet, frame in  frames.items(): # .use .items for python 3.X\n",
    "    frame.to_excel(writer, sheet_name = sheet)\n",
    "\n",
    "#critical last step\n",
    "writer.save()"
   ]
  },
  {
   "cell_type": "code",
   "execution_count": null,
   "metadata": {},
   "outputs": [],
   "source": []
  }
 ],
 "metadata": {
  "kernelspec": {
   "display_name": "Python 3",
   "language": "python",
   "name": "python3"
  },
  "language_info": {
   "codemirror_mode": {
    "name": "ipython",
    "version": 3
   },
   "file_extension": ".py",
   "mimetype": "text/x-python",
   "name": "python",
   "nbconvert_exporter": "python",
   "pygments_lexer": "ipython3",
   "version": "3.8.5"
  }
 },
 "nbformat": 4,
 "nbformat_minor": 4
}
